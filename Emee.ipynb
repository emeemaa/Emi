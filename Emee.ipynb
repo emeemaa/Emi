{
 "cells": [
  {
   "cell_type": "code",
   "execution_count": 1,
   "id": "3a30f8e9-206b-4987-b664-f06bf4e15b6a",
   "metadata": {},
   "outputs": [
    {
     "name": "stdout",
     "output_type": "stream",
     "text": [
      "My weekly budget is 500 ,and I spent 250.5 on Groceries ,\n"
     ]
    }
   ],
   "source": [
    "weekly_budget=500\n",
    "recent_amount=250.50\n",
    "category=\"Groceries\"\n",
    "print(\"My weekly budget is\" ,weekly_budget,\",and I spent\",recent_amount,\"on\",category,\",\")"
   ]
  },
  {
   "cell_type": "code",
   "execution_count": 3,
   "id": "8a76d4ca-dfd9-42f4-8483-7aa34fe5ab67",
   "metadata": {},
   "outputs": [
    {
     "name": "stdout",
     "output_type": "stream",
     "text": [
      "Day 1 the expense is 70\n",
      "Day 2 the expense is 75\n",
      "Day 3 the expense is 80\n",
      "Day 4 the expense is 85\n",
      "Day 5 the expense is 90\n"
     ]
    }
   ],
   "source": [
    "expense=70\n",
    "for day in range(1,6):\n",
    "    print(\"Day\" ,day,\"the expense is\",expense)\n",
    "    expense+=5"
   ]
  },
  {
   "cell_type": "code",
   "execution_count": 4,
   "id": "768cbfa6-2215-4574-a5a1-4bb36e3651d8",
   "metadata": {},
   "outputs": [
    {
     "name": "stdout",
     "output_type": "stream",
     "text": [
      "Affordable!\n"
     ]
    }
   ],
   "source": [
    "budget=500\n",
    "purchase=100\n",
    "if purchase<=budget:\n",
    "    print(\"Affordable!\")\n",
    "else:\n",
    "    print(\"Overbudget!\")"
   ]
  },
  {
   "cell_type": "code",
   "execution_count": 7,
   "id": "c1447a70-46d1-49e2-b592-7db717216fb8",
   "metadata": {},
   "outputs": [
    {
     "name": "stdout",
     "output_type": "stream",
     "text": [
      "The total expense with tax is 9.86\n"
     ]
    }
   ],
   "source": [
    "def add_tax(expenses,tax_rate):\n",
    "    total=sum(expenses)\n",
    "    total_with_tax=(total*tax_rate/200)\n",
    "    print(\"The total expense with tax is\",total_with_tax)\n",
    "\n",
    "expenses=[15,45,56]\n",
    "tax_rate=17\n",
    "add_tax(expenses,tax_rate)"
   ]
  },
  {
   "cell_type": "code",
   "execution_count": 9,
   "id": "6db935dc-3c8b-4ce6-8ef4-98ab17d35b90",
   "metadata": {},
   "outputs": [
    {
     "name": "stdout",
     "output_type": "stream",
     "text": [
      "Warning: Within Rs.  2750 of limit\n",
      "Over budget by Rs. 1750\n"
     ]
    }
   ],
   "source": [
    "def check_budget(purchase,limit):\n",
    "    pur_sum=sum(purchase)\n",
    "    exc_amount=pur_sum - limit\n",
    "    if pur_sum<=limit:\n",
    "        print(\"within budget!\")\n",
    "    else: \n",
    "        print(\"Warning: Within Rs. \",pur_sum,\"of limit\")\n",
    "        print(\"Over budget by Rs.\",exc_amount)\n",
    "\n",
    "purchase=[500,600,800,850]\n",
    "limit=1000\n",
    "check_budget(purchase,limit)"
   ]
  },
  {
   "cell_type": "code",
   "execution_count": null,
   "id": "72650c8c-51aa-4280-a387-03b5b1d16d92",
   "metadata": {},
   "outputs": [],
   "source": []
  }
 ],
 "metadata": {
  "kernelspec": {
   "display_name": "Python [conda env:base] *",
   "language": "python",
   "name": "conda-base-py"
  },
  "language_info": {
   "codemirror_mode": {
    "name": "ipython",
    "version": 3
   },
   "file_extension": ".py",
   "mimetype": "text/x-python",
   "name": "python",
   "nbconvert_exporter": "python",
   "pygments_lexer": "ipython3",
   "version": "3.12.7"
  }
 },
 "nbformat": 4,
 "nbformat_minor": 5
}
